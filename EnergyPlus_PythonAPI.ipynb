{
  "nbformat": 4,
  "nbformat_minor": 0,
  "metadata": {
    "colab": {
      "name": "EnergyPlus_PythonAPI.ipynb",
      "provenance": [],
      "authorship_tag": "ABX9TyN8DqrxhTj0q8KDCaOMxlW3",
      "include_colab_link": true
    },
    "kernelspec": {
      "name": "python3",
      "display_name": "Python 3"
    },
    "language_info": {
      "name": "python"
    }
  },
  "cells": [
    {
      "cell_type": "markdown",
      "metadata": {
        "id": "view-in-github",
        "colab_type": "text"
      },
      "source": [
        "<a href=\"https://colab.research.google.com/github/mechyai/RL-BCA/blob/main/EnergyPlus_PythonAPI.ipynb\" target=\"_parent\"><img src=\"https://colab.research.google.com/assets/colab-badge.svg\" alt=\"Open In Colab\"/></a>"
      ]
    },
    {
      "cell_type": "markdown",
      "metadata": {
        "id": "G8SQs0Pq9DnI"
      },
      "source": [
        "References: https://github.com/jmarrec/OpenStudio_to_EnergyPlusAPI/blob/main/OpenStudio_to_EnergyPlusAPI.ipynb"
      ]
    },
    {
      "cell_type": "markdown",
      "metadata": {
        "id": "5yhlw36x8uP6"
      },
      "source": [
        "First must install openstudio python package"
      ]
    },
    {
      "cell_type": "code",
      "metadata": {
        "id": "HIsG52t98p25"
      },
      "source": [
        "!pip3 install openstudio"
      ],
      "execution_count": null,
      "outputs": []
    },
    {
      "cell_type": "markdown",
      "metadata": {
        "id": "aIPze_UPfQIQ"
      },
      "source": [
        "Then to handle OMP: Error #15\n",
        "\"# OMP: Error #15: Initializing libiomp5md.dll, but found libiomp5md.dll already initialized.\""
      ]
    },
    {
      "cell_type": "code",
      "metadata": {
        "id": "TINJ8KGbfYNT"
      },
      "source": [
        " os.environ['KMP_DUPLICATE_LIB_OK'] = 'True'"
      ],
      "execution_count": null,
      "outputs": []
    },
    {
      "cell_type": "markdown",
      "metadata": {
        "id": "EsDJfvZzfe4m"
      },
      "source": [
        "This is a workaround, not a solution. Below is said to work (or install *mkl*\n",
        "\n",
        "```\n",
        "!conda install nomkl\n",
        "```\n",
        "or\n",
        "```\n",
        "!conda install mkl\n",
        "```\n",
        "Not sure which is prefered for anaconda\n"
      ]
    }
  ]
}